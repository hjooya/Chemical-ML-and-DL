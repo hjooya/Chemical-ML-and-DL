{
 "cells": [
  {
   "cell_type": "code",
   "execution_count": 42,
   "metadata": {},
   "outputs": [],
   "source": [
    "import io\n",
    "import csv\n",
    "import time\n",
    "import random\n",
    "import math\n",
    "import os, re, glob\n",
    "from pathlib import Path\n",
    "import pandas as pd\n",
    "from rdkit.Chem import PandasTools\n",
    "import numpy as np\n",
    "import numpy\n",
    "import matplotlib.pyplot as plt\n",
    "from rdkit import Chem\n",
    "from rdkit.Chem import AllChem\n",
    "from rdkit import DataStructs\n",
    "from rdkit.ML.Cluster import Butina\n",
    "from rdkit.Chem import Draw\n",
    "from rdkit.Chem import rdFingerprintGenerator\n",
    "from rdkit.Chem import RDKFingerprint, SDMolSupplier"
   ]
  },
  {
   "cell_type": "code",
   "execution_count": 2,
   "metadata": {},
   "outputs": [],
   "source": [
    "HERE = Path(_dh[-1])\n",
    "DATA = HERE / \"AMES_Sized_Data\""
   ]
  },
  {
   "cell_type": "code",
   "execution_count": 28,
   "metadata": {},
   "outputs": [
    {
     "name": "stdout",
     "output_type": "stream",
     "text": [
      "number of molecules in AMES Dataset is =  6512\n",
      "biggest molecule in AMES Dataset has  214 atoms.\n"
     ]
    }
   ],
   "source": [
    "AMES = pd.read_csv('AMES_Data.csv',names=['Smiles','Mutagenicity'])\n",
    "num_AMES_mols = len(AMES.index)\n",
    "print('number of molecules in AMES Dataset is = ' , num_AMES_mols)\n",
    "AMES_mol = [Chem.MolFromSmiles(smi) for smi in AMES.Smiles if smi is not None]\n",
    "Num_AMES_Atoms = [MolN.GetNumAtoms() for MolN in AMES_mol]\n",
    "biggest_mol_size = max(Num_AMES_Atoms)\n",
    "print('biggest molecule in AMES Dataset has ' , biggest_mol_size, 'atoms.')\n",
    "\n",
    "jmax = math.ceil(biggest_mol_size/10)\n",
    "\n",
    "for j in range(1,jmax+1):\n",
    "    size = j*10\n",
    "    sizedown = size-10\n",
    "    with io.open(str(DATA/ \"AMES_sub_\") + str(size) + \".txt\",'w') as f:\n",
    "            for index, i in enumerate(AMES.index):\n",
    "                if  sizedown <= Num_AMES_Atoms[index] < size :\n",
    "                    molsize = AMES.Smiles[index]\n",
    "                    molmotagen = AMES.Mutagenicity[index]\n",
    "                    f.write(str(molsize) +\"  \"+ str(molmotagen))\n",
    "                    f.write('\\n')\n",
    "\n",
    "f.close()                      \n"
   ]
  },
  {
   "cell_type": "code",
   "execution_count": 45,
   "metadata": {},
   "outputs": [],
   "source": [
    "directory = 'AMES_Sized_Data/'\n",
    "with io.open(\"AMES_size_distribution\" + \".txt\",'w') as g:\n",
    "            files = glob.glob(os.path.join(directory, '*.txt'))\n",
    "            files.sort(key=lambda x:[int(c) if c.isdigit() else c for c in re.split(r'(\\d+)', x)])\n",
    "            count = 0  \n",
    "            for infile in files:\n",
    "                f = open(infile, \"r\")\n",
    "                count = count + 1\n",
    "                size = count * 10\n",
    "                num_mols = len(f.readlines())\n",
    "                g.write(str(size) +\"  \"+ str(num_mols))\n",
    "                g.write('\\n')\n",
    "\n",
    "g.close()         "
   ]
  },
  {
   "cell_type": "code",
   "execution_count": 65,
   "metadata": {},
   "outputs": [
    {
     "data": {
      "text/plain": [
       "<BarContainer object of 22 artists>"
      ]
     },
     "execution_count": 65,
     "metadata": {},
     "output_type": "execute_result"
    },
    {
     "data": {
      "image/png": "[encoded data removed]",
      "text/plain": [
       "<Figure size 432x288 with 1 Axes>"
      ]
     },
     "metadata": {
      "needs_background": "light"
     },
     "output_type": "display_data"
    }
   ],
   "source": [
    "df = pd.read_fwf('AMES_size_distribution.txt')\n",
    "df.to_csv('AMES_size_distribution.csv')\n",
    "data = pd.read_csv('AMES_size_distribution.csv',names=['ind','NumAtm','Freq'])\n",
    "fig, ax = plt.subplots()\n",
    "ax.bar(data['NumAtm'], data['Freq'])"
   ]
  },
  {
   "cell_type": "code",
   "execution_count": null,
   "metadata": {},
   "outputs": [],
   "source": []
  }
 ],
 "metadata": {
  "kernelspec": {
   "display_name": "Python 3",
   "language": "python",
   "name": "python3"
  },
  "language_info": {
   "codemirror_mode": {
    "name": "ipython",
    "version": 3
   },
   "file_extension": ".py",
   "mimetype": "text/x-python",
   "name": "python",
   "nbconvert_exporter": "python",
   "pygments_lexer": "ipython3",
   "version": "3.7.4"
  },
  "toc-autonumbering": true,
  "toc-showmarkdowntxt": false,
  "toc-showtags": false,
  "widgets": {
   "application/vnd.jupyter.widget-state+json": {
    "state": {},
    "version_major": 2,
    "version_minor": 0
   }
  }
 },
 "nbformat": 4,
 "nbformat_minor": 4
}
